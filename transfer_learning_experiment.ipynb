{
 "cells": [
  {
   "cell_type": "code",
   "execution_count": 1,
   "metadata": {},
   "outputs": [
    {
     "name": "stdout",
     "output_type": "stream",
     "text": [
      "training initial model\n"
     ]
    },
    {
     "ename": "TypeError",
     "evalue": "get_dataloaders() missing 1 required positional argument: 'res'",
     "output_type": "error",
     "traceback": [
      "\u001b[0;31m---------------------------------------------------------------------------\u001b[0m",
      "\u001b[0;31mTypeError\u001b[0m                                 Traceback (most recent call last)",
      "\u001b[1;32m/home/lior/experiments/transfer_learning_experiment.ipynb Cell 1\u001b[0m in \u001b[0;36m<cell line: 5>\u001b[0;34m()\u001b[0m\n\u001b[1;32m      <a href='vscode-notebook-cell:/home/lior/experiments/transfer_learning_experiment.ipynb#W0sZmlsZQ%3D%3D?line=1'>2</a>\u001b[0m \u001b[39mfrom\u001b[39;00m \u001b[39momegaconf\u001b[39;00m \u001b[39mimport\u001b[39;00m DictConfig\n\u001b[1;32m      <a href='vscode-notebook-cell:/home/lior/experiments/transfer_learning_experiment.ipynb#W0sZmlsZQ%3D%3D?line=3'>4</a>\u001b[0m cfg \u001b[39m=\u001b[39m DictConfig({\u001b[39m\"\u001b[39m\u001b[39mlr\u001b[39m\u001b[39m\"\u001b[39m: \u001b[39m0.0001\u001b[39m, \u001b[39m\"\u001b[39m\u001b[39minit_channels\u001b[39m\u001b[39m\"\u001b[39m: \u001b[39m30\u001b[39m, \u001b[39m\"\u001b[39m\u001b[39minit_layers\u001b[39m\u001b[39m\"\u001b[39m: \u001b[39m4\u001b[39m})\n\u001b[0;32m----> <a href='vscode-notebook-cell:/home/lior/experiments/transfer_learning_experiment.ipynb#W0sZmlsZQ%3D%3D?line=4'>5</a>\u001b[0m start_experiment(cfg)\n",
      "File \u001b[0;32m~/experiments/transfer_learning.py:134\u001b[0m, in \u001b[0;36mstart_experiment\u001b[0;34m(cfg)\u001b[0m\n\u001b[1;32m    132\u001b[0m \u001b[39mdef\u001b[39;00m \u001b[39mstart_experiment\u001b[39m(cfg: DictConfig):\n\u001b[1;32m    133\u001b[0m     \u001b[39mprint\u001b[39m(\u001b[39m\"\u001b[39m\u001b[39mtraining initial model\u001b[39m\u001b[39m\"\u001b[39m)\n\u001b[0;32m--> 134\u001b[0m     teacher \u001b[39m=\u001b[39m train_initial_model(cfg)\n\u001b[1;32m    136\u001b[0m     transfer_to_model(teacher, cfg)\n\u001b[1;32m    137\u001b[0m     \u001b[39mprint\u001b[39m(\u001b[39m\"\u001b[39m\u001b[39mDONE\u001b[39m\u001b[39m\"\u001b[39m)\n",
      "File \u001b[0;32m~/experiments/transfer_learning.py:100\u001b[0m, in \u001b[0;36mtrain_initial_model\u001b[0;34m(cfg)\u001b[0m\n\u001b[1;32m     99\u001b[0m \u001b[39mdef\u001b[39;00m \u001b[39mtrain_initial_model\u001b[39m(cfg: DictConfig):\n\u001b[0;32m--> 100\u001b[0m     train_loader, val_loader \u001b[39m=\u001b[39m get_dataloaders()\n\u001b[1;32m    101\u001b[0m     channels \u001b[39m=\u001b[39m cfg\u001b[39m.\u001b[39minit_channels\n\u001b[1;32m    102\u001b[0m     layers \u001b[39m=\u001b[39m cfg\u001b[39m.\u001b[39minit_layers\n",
      "\u001b[0;31mTypeError\u001b[0m: get_dataloaders() missing 1 required positional argument: 'res'"
     ]
    }
   ],
   "source": [
    "from transfer_learning import start_experiment\n",
    "from omegaconf import DictConfig\n",
    "\n",
    "cfg = DictConfig({\"lr\": 0.0001, \"init_channels\": 30, \"init_layers\": 4, \"res\": [64, 64]})\n",
    "start_experiment(cfg)"
   ]
  },
  {
   "cell_type": "code",
   "execution_count": null,
   "metadata": {},
   "outputs": [],
   "source": []
  }
 ],
 "metadata": {
  "kernelspec": {
   "display_name": "Python 3.8.10 ('venv')",
   "language": "python",
   "name": "python3"
  },
  "language_info": {
   "codemirror_mode": {
    "name": "ipython",
    "version": 3
   },
   "file_extension": ".py",
   "mimetype": "text/x-python",
   "name": "python",
   "nbconvert_exporter": "python",
   "pygments_lexer": "ipython3",
   "version": "3.8.10"
  },
  "orig_nbformat": 4,
  "vscode": {
   "interpreter": {
    "hash": "0b5741b45fee60e04087d778b15c30d99ebd9bef944d70d07ee923b00f1f5926"
   }
  }
 },
 "nbformat": 4,
 "nbformat_minor": 2
}
